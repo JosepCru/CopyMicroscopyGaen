{
 "cells": [
  {
   "cell_type": "code",
   "execution_count": 20,
   "metadata": {},
   "outputs": [
    {
     "name": "stdout",
     "output_type": "stream",
     "text": [
      "C:\\Users\\josep\\AIMicroscopyGAeN\\Detect_NP\\detection_gui\n"
     ]
    }
   ],
   "source": [
    "import os\n",
    "import sys\n",
    "sys.path.append(os.path.abspath(\"..\"))\n",
    "\n",
    "from detection_gui_app import Detection_gui\n",
    "\n",
    "app = Detection_gui(project_path=os.path.abspath(\".\"))\n",
    "app.mainloop()"
   ]
  },
  {
   "cell_type": "code",
   "execution_count": 69,
   "metadata": {},
   "outputs": [
    {
     "name": "stdout",
     "output_type": "stream",
     "text": [
      "C:\\Users\\josep\\AIMicroscopyGAeN\\Detect_NP\\detection_gui\n"
     ]
    },
    {
     "name": "stderr",
     "output_type": "stream",
     "text": [
      "Traceback (most recent call last):\n",
      "  File \"C:\\Users\\josep\\AIMicroscopyGAeN\\Detect_NP\\detection_gui\\detection_gui_app.py\", line 42, in <module>\n",
      "    app = Detection_gui()\n",
      "  File \"C:\\Users\\josep\\AIMicroscopyGAeN\\Detect_NP\\detection_gui\\detection_gui_app.py\", line 31, in __init__\n",
      "    self.frame_settings = Frame_settings(self, self.project_path)\n",
      "  File \"C:\\Users\\josep\\AIMicroscopyGAeN\\Detect_NP\\detection_gui\\settings.py\", line 21, in __init__\n",
      "    self.directory_selector = DirectorySelectorFrame(self, max_length=12)\n",
      "  File \"C:\\Users\\josep\\AIMicroscopyGAeN\\Detect_NP\\detection_gui\\widgets\\directory_frame.py\", line 7, in __init__\n",
      "    super().__init__(parent, *args, **kwargs)\n",
      "  File \"C:\\Users\\josep\\anaconda3\\envs\\app\\lib\\site-packages\\customtkinter\\windows\\widgets\\ctk_frame.py\", line 33, in __init__\n",
      "    super().__init__(master=master, bg_color=bg_color, width=width, height=height, **kwargs)\n",
      "  File \"C:\\Users\\josep\\anaconda3\\envs\\app\\lib\\site-packages\\customtkinter\\windows\\widgets\\core_widget_classes\\ctk_base_class.py\", line 46, in __init__\n",
      "    check_kwargs_empty(kwargs, raise_error=True)\n",
      "  File \"C:\\Users\\josep\\anaconda3\\envs\\app\\lib\\site-packages\\customtkinter\\windows\\widgets\\utility\\utility_functions.py\", line 18, in check_kwargs_empty\n",
      "    raise ValueError(f\"{list(kwargs_dict.keys())} are not supported arguments. Look at the documentation for supported arguments.\")\n",
      "ValueError: ['max_length'] are not supported arguments. Look at the documentation for supported arguments.\n"
     ]
    }
   ],
   "source": [
    "!python ../detection_gui/detection_gui_app.py"
   ]
  }
 ],
 "metadata": {
  "kernelspec": {
   "display_name": "Python 3 (ipykernel)",
   "language": "python",
   "name": "python3"
  },
  "language_info": {
   "codemirror_mode": {
    "name": "ipython",
    "version": 3
   },
   "file_extension": ".py",
   "mimetype": "text/x-python",
   "name": "python",
   "nbconvert_exporter": "python",
   "pygments_lexer": "ipython3",
   "version": "3.9.0"
  }
 },
 "nbformat": 4,
 "nbformat_minor": 4
}
