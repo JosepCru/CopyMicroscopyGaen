{
 "cells": [
  {
   "cell_type": "markdown",
   "metadata": {},
   "source": [
    "Primeramente vamos a inicializar los paquetes necesarios"
   ]
  },
  {
   "cell_type": "code",
   "execution_count": null,
   "metadata": {},
   "outputs": [],
   "source": [
    "from autoscript_tem_microscope_client import TemMicroscopeClient\n",
    "from autoscript_tem_microscope_client.enumerations import *\n",
    "from autoscript_tem_microscope_client.structures import *"
   ]
  },
  {
   "cell_type": "code",
   "execution_count": null,
   "metadata": {},
   "outputs": [],
   "source": [
    "import time # If it's not necessary delete"
   ]
  },
  {
   "cell_type": "code",
   "execution_count": null,
   "metadata": {},
   "outputs": [],
   "source": [
    "# Spiral Grid Generatod, copied from the Hackathon project\n",
    "def build_spiral_coordinates(total_cells = 12, cell_size=1024, start_point=None):\n",
    "    coord_initial = []\n",
    "    directions = [(0, cell_size), (-cell_size, 0), (0, -cell_size), (cell_size, 0)]\n",
    "    direction_index = 0\n",
    "\n",
    "    x, y = start_point\n",
    "\n",
    "    step_count = 0\n",
    "    step_limit = 1\n",
    "    direction_changes = 0\n",
    "\n",
    "    while len(coord_initial) < total_cells:\n",
    "        x_start, y_start = x, y\n",
    "\n",
    "        coord_initial.append((x_start, y_start))\n",
    "\n",
    "        dx, dy = directions[direction_index]\n",
    "        x += dx\n",
    "        y += dy\n",
    "        step_count += 1\n",
    "\n",
    "        if step_count == step_limit:\n",
    "            step_count = 0\n",
    "            direction_index = (direction_index + 1) % 4\n",
    "            direction_changes += 1\n",
    "            \n",
    "            if direction_changes % 2 == 0:\n",
    "                step_limit += 1\n",
    "\n",
    "    return coord_initial"
   ]
  },
  {
   "cell_type": "code",
   "execution_count": null,
   "metadata": {},
   "outputs": [],
   "source": [
    "def mainPrueba():   \n",
    "    microscope = TemMicroscopeClient()\n",
    "    microscope.connect()\n",
    "\n",
    "    # Change optical mode to STEM\n",
    "    microscope.optics.optical_mode = OpticalMode.STEM\n",
    "    \n",
    "    # For taking images only the spiral, not the movement ||| Don't delete\n",
    "    cell_size = 0.001\n",
    "    num_steps = 5\n",
    "    step_size = cell_size/num_steps\n",
    "\n",
    "    position = microscope.specimen.stage.position\n",
    "    start_x, start_y = position.x, position.y\n",
    "    grid_coords = build_spiral_coordinates(total_cells=12, cell_size=cell_size, start_point=(start_x, start_y))\n",
    "    \n",
    "    for (x, y) in grid_coords:\n",
    "        # time.sleep(1) # Time to let the microscope move correctly (maybe we should put more)\n",
    "        movement_capture(x, y, num_steps, step_size) # <-------------------------------------------------Change this\n",
    "    \n",
    "    microscope.disconnect()"
   ]
  },
  {
   "cell_type": "code",
   "execution_count": null,
   "metadata": {},
   "outputs": [],
   "source": [
    "# Function where the microscope moves inside of the grid and takes pictres each step\n",
    "def movement_capture(grid_x, grid_y, num_steps = 5, step_size=0.0001):\n",
    "    \n",
    "    microscope.specimen.stage.absolute_move(StagePosition(x=grid_x, y=grid_y)) # Move the microscope to the coordinates of the grid\n",
    "    \n",
    "    for j in range(num_steps):\n",
    "        if j % 2 == 0: # First we select the direction where we are panning\n",
    "            direction = 1\n",
    "        else:\n",
    "            direction = -1\n",
    "\n",
    "        print(f\"Step {j}\")\n",
    "        \n",
    "        for i in range(num_steps):\n",
    "            image = microscope.camera.acquire_image() # HAADF\n",
    "            image.save(f\"image_{j}_{i}.png\")\n",
    "            microscope.specimen.stage.relative_move(StagePosition(x=direction * step_size))\n",
    "            # time.sleep(1) # Time to let the microscope move correctly (maybe we should put more)\n",
    "            \n",
    "        microscope.specimen.stage.relative_move(StagePosition(y=-step_size))  "
   ]
  },
  {
   "cell_type": "code",
   "execution_count": null,
   "metadata": {},
   "outputs": [],
   "source": [
    "if __name__ == \"__main__\":\n",
    "    main()"
   ]
  },
  {
   "cell_type": "code",
   "execution_count": null,
   "metadata": {},
   "outputs": [],
   "source": [
    "def main():\n",
    "    microscope = TemMicroscopeClient()\n",
    "    microscope.connect()\n",
    "    microscope.optics.optical_mode = OpticalMode.STEM\n",
    "\n",
    "    num_images = 1000\n",
    "    step_size = 0.0001\n",
    "\n",
    "    position = microscope.specimen.stage.position\n",
    "    start_x, start_y = position.x, position.y\n",
    "    grid_coords = build_spiral_coordinates(total_cells=num_images/2, cell_size=step_size, start_point=(start_x, start_y))\n",
    "\n",
    "    for (x, y) in grid_coords:\n",
    "        movement(x, y, step_size, microscope)\n",
    "    \n",
    "    microscope.disconnect()"
   ]
  },
  {
   "cell_type": "code",
   "execution_count": null,
   "metadata": {},
   "outputs": [],
   "source": [
    "def movement(grid_x, grid_y, step_size, microscope):\n",
    "    microscope.specimen.stage.absolute_move(StagePosition(x=grid_x, y=grid_y)) # Move the microscope to the coordinates of the grid\n",
    "    for i in range (0,2):\n",
    "            image = microscope.acquisition.acquire_stem_image(DetectorType.HAADF, ImageSize.PRESET_512, 1e-6)\n",
    "            image.save(f\"image_{grid_x}_{i}.png\")\n",
    "            microscope.specimen.stage.relative_move(StagePosition(x=step_size/2))"
   ]
  }
 ],
 "metadata": {
  "language_info": {
   "name": "python"
  }
 },
 "nbformat": 4,
 "nbformat_minor": 2
}
