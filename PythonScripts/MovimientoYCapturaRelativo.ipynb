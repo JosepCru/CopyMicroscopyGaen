{
 "cells": [
  {
   "cell_type": "markdown",
   "metadata": {},
   "source": [
    "Primeramente vamos a inicializar los paquetes necesarios"
   ]
  },
  {
   "cell_type": "code",
   "execution_count": null,
   "metadata": {},
   "outputs": [],
   "source": [
    "from autoscript_tem_microscope_client import TemMicroscopeClient\n",
    "from autoscript_tem_microscope_client.enumerations import *\n",
    "from autoscript_tem_microscope_client.structures import *"
   ]
  },
  {
   "cell_type": "code",
   "execution_count": 1,
   "metadata": {},
   "outputs": [],
   "source": [
    "import os"
   ]
  },
  {
   "cell_type": "code",
   "execution_count": 8,
   "metadata": {},
   "outputs": [],
   "source": [
    "directory = 'images/'\n",
    "os.makedirs(directory, exist_ok=True)"
   ]
  },
  {
   "cell_type": "code",
   "execution_count": null,
   "metadata": {},
   "outputs": [],
   "source": [
    "# Spiral Grid Generatod, copied from the Hackathon project\n",
    "def build_spiral_coordinates(total_cells = 12):\n",
    "    coord_initial = []\n",
    "    directions = [(0, 1), (-1, 0), (0, -1), (1, 0)]\n",
    "    direction_index = 0\n",
    "    step_count = 0\n",
    "    step_limit = 1\n",
    "    direction_changes = 0\n",
    "\n",
    "    while len(coord_initial) < total_cells:\n",
    "\n",
    "        coord_initial.append(directions[direction_index])\n",
    "        step_count += 1\n",
    "\n",
    "        if step_count == step_limit:\n",
    "            step_count = 0\n",
    "            direction_index = (direction_index + 1) % 4\n",
    "            direction_changes += 1\n",
    "            \n",
    "            if direction_changes % 2 == 0:\n",
    "                step_limit += 1\n",
    "\n",
    "    return coord_initial"
   ]
  },
  {
   "cell_type": "code",
   "execution_count": null,
   "metadata": {},
   "outputs": [],
   "source": [
    "def movement(grid_x, grid_y, step_size, microscope):\n",
    "    for i in range (0,2):\n",
    "            microscope.specimen.stage.relative_move(StagePosition(x=grid_x * step_size, y=grid_y * step_size)) # Move the microscope to the coordinates of the grid\n",
    "            image = microscope.acquisition.acquire_stem_image(DetectorType.HAADF, ImageSize.PRESET_512, 1e-6)\n",
    "            image.save(os.path.join(directory,f\"image_{grid_x}_{i}.png\"))"
   ]
  },
  {
   "cell_type": "code",
   "execution_count": null,
   "metadata": {},
   "outputs": [],
   "source": [
    "def main():\n",
    "    microscope = TemMicroscopeClient()\n",
    "    microscope.connect()\n",
    "    microscope.optics.optical_mode = OpticalMode.STEM\n",
    "\n",
    "    num_images = 1000\n",
    "    step_size = 0.0001\n",
    "\n",
    "    total_steps = num_images/2\n",
    "    movement_direction = build_spiral_coordinates(total_cells=total_steps)\n",
    "\n",
    "    for (x, y) in movement_direction:\n",
    "        movement(x, y, step_size, microscope)\n",
    "    \n",
    "    microscope.disconnect()"
   ]
  },
  {
   "cell_type": "code",
   "execution_count": null,
   "metadata": {},
   "outputs": [],
   "source": [
    "if __name__ == \"__main__\":\n",
    "    main()"
   ]
  },
  {
   "cell_type": "markdown",
   "metadata": {},
   "source": [
    "# Pruebas con prediccion"
   ]
  },
  {
   "cell_type": "markdown",
   "metadata": {},
   "source": [
    "## Charge image"
   ]
  },
  {
   "cell_type": "code",
   "execution_count": 2,
   "metadata": {},
   "outputs": [],
   "source": [
    "import os\n",
    "import numpy as np\n",
    "import cv2\n",
    "import matplotlib.pyplot as plt\n",
    "from scipy.ndimage import label"
   ]
  },
  {
   "cell_type": "code",
   "execution_count": 1,
   "metadata": {},
   "outputs": [],
   "source": [
    "def load_image(directory, index):\n",
    "    filename = f\"image_{index:04d}.png\" # This will add ceros if the index is 5 until there are 4 numbers\n",
    "    path = os.path.join(directory, filename)\n",
    "    image = cv2.imread(path, cv2.IMREAD_GRAYSCALE)\n",
    "    if image is None:\n",
    "        raise FileNotFoundError(f\"No se ha encontrado la imagen: {path}\")\n",
    "    return image"
   ]
  },
  {
   "cell_type": "code",
   "execution_count": 3,
   "metadata": {},
   "outputs": [],
   "source": [
    "# Función para aislar las partículas usando una máscara de predicción y conectar regiones.\n",
    "def isolate_particles(pred_mask, threshold=0.5):\n",
    "    # Convertir la predicción a una máscara binaria\n",
    "    binary_mask = (pred_mask > threshold).astype(np.uint8)\n",
    "    # Realizar el etiquetado de componentes conectados\n",
    "    labeled_mask, num_particles = label(binary_mask)\n",
    "    return labeled_mask, num_particles"
   ]
  },
  {
   "cell_type": "code",
   "execution_count": 4,
   "metadata": {},
   "outputs": [],
   "source": [
    "# Función para calcular el cuadrado mínimo (cuadro envolvente) para una partícula\n",
    "def get_square_bbox(indices, image_shape):\n",
    "    rows, cols = indices\n",
    "    if len(rows) == 0 or len(cols) == 0:\n",
    "        return None\n",
    "    min_row, max_row = np.min(rows), np.max(rows)\n",
    "    min_col, max_col = np.min(cols), np.max(cols)\n",
    "    width = max_col - min_col\n",
    "    height = max_row - min_row\n",
    "    side = max(width, height)\n",
    "    \n",
    "    # Calcular el centro para centrar el cuadrado\n",
    "    row_center = (min_row + max_row) // 2\n",
    "    col_center = (min_col + max_col) // 2\n",
    "    half_side = side // 2\n",
    "\n",
    "    start_row = max(row_center - half_side, 0)\n",
    "    start_col = max(col_center - half_side, 0)\n",
    "    \n",
    "    # Asegurarse de que el cuadrado no exceda los límites de la imagen\n",
    "    if start_row + side > image_shape[0]:\n",
    "        start_row = image_shape[0] - side\n",
    "    if start_col + side > image_shape[1]:\n",
    "        start_col = image_shape[1] - side\n",
    "    return (start_row, start_col, side)"
   ]
  },
  {
   "cell_type": "code",
   "execution_count": 5,
   "metadata": {},
   "outputs": [],
   "source": [
    "# Función para plotear la partícula recortada de la imagen original\n",
    "def plot_particle(image, bbox, title=\"Partícula\"):\n",
    "    r, c, s = bbox\n",
    "    particle_img = image[r:r+s, c:c+s]\n",
    "    plt.figure()\n",
    "    plt.imshow(particle_img, cmap='gray')\n",
    "    plt.title(title)\n",
    "    plt.axis('off')\n",
    "    plt.show()"
   ]
  },
  {
   "cell_type": "code",
   "execution_count": null,
   "metadata": {},
   "outputs": [],
   "source": [
    "# --- Código principal de ejemplo ---\n",
    "# Define la carpeta donde están las imágenes y el índice a usar\n",
    "folder_path = \"ruta/a/la/carpeta\"  # Cambia esto por la ruta real\n",
    "index = 8  # Ejemplo del índice, para 'image_0008.png'\n",
    "\n",
    "# Cargar la imagen\n",
    "image = load_image(folder_path, index)\n",
    "\n",
    "# Realizar la predicción con el modelo (asegúrate de tener el modelo cargado previamente)\n",
    "pred, zones = model.predict(image)\n",
    "plt.imshow(pred[0], cmap='gray')\n",
    "plt.title(\"Predicción del modelo\")\n",
    "plt.axis('off')\n",
    "plt.show()\n",
    "\n",
    "# Aislar las partículas usando la máscara de predicción\n",
    "labeled_mask, num_particles = isolate_particles(pred[0], threshold=0.5)\n",
    "print(f\"Número de partículas detectadas: {num_particles}\")\n",
    "\n",
    "# Convertir la imagen original a color para dibujar cuadros (en OpenCV el orden es BGR)\n",
    "image_color = cv2.cvtColor(image, cv2.COLOR_GRAY2BGR)\n",
    "\n",
    "bboxes = []\n",
    "for i in range(1, num_particles + 1):\n",
    "    # np.where devuelve las coordenadas (filas y columnas) donde la etiqueta es igual a i\n",
    "    particle_indices = np.where(labeled_mask == i)\n",
    "    bbox = get_square_bbox(particle_indices, image.shape)\n",
    "    if bbox is not None:\n",
    "        bboxes.append(bbox)\n",
    "        # Dibujar el cuadrado en la imagen global; recordando que la coordenada para cv2.rectangle es (columna, fila)\n",
    "        start_row, start_col, side = bbox\n",
    "        cv2.rectangle(image_color, (start_col, start_row), (start_col + side, start_row + side), (0, 0, 255), 2)\n",
    "        # Ploteamos cada partícula de forma individual\n",
    "        plot_particle(image, bbox, title=f\"Partícula {i}\")\n",
    "\n",
    "# Mostrar la imagen global con los cuadrados que encuadran las partículas\n",
    "plt.figure(figsize=(8, 8))\n",
    "# Convertimos de BGR a RGB para que matplotlib pinte con los colores correctos\n",
    "plt.imshow(cv2.cvtColor(image_color, cv2.COLOR_BGR2RGB))\n",
    "plt.title(\"Imagen global con partículas enmarcadas\")\n",
    "plt.axis('off')\n",
    "plt.show()"
   ]
  }
 ],
 "metadata": {
  "kernelspec": {
   "display_name": "app",
   "language": "python",
   "name": "python3"
  },
  "language_info": {
   "codemirror_mode": {
    "name": "ipython",
    "version": 3
   },
   "file_extension": ".py",
   "mimetype": "text/x-python",
   "name": "python",
   "nbconvert_exporter": "python",
   "pygments_lexer": "ipython3",
   "version": "3.9.0"
  }
 },
 "nbformat": 4,
 "nbformat_minor": 2
}
