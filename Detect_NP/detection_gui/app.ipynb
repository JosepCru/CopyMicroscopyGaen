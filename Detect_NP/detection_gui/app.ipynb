{
 "cells": [
  {
   "cell_type": "code",
   "execution_count": 30,
   "metadata": {},
   "outputs": [
    {
     "name": "stdout",
     "output_type": "stream",
     "text": [
      "c:\\Users\\josep\\AIMicroscopyGAeN\\Detect_NP\\detection_gui\n"
     ]
    }
   ],
   "source": [
    "import os\n",
    "import sys\n",
    "sys.path.append(os.path.abspath(\"..\"))\n",
    "\n",
    "from detection_gui_app import Detection_gui\n",
    "\n",
    "app = Detection_gui(project_path=os.path.abspath(\".\"))\n",
    "app.mainloop()"
   ]
  },
  {
   "cell_type": "code",
   "execution_count": 59,
   "metadata": {},
   "outputs": [
    {
     "name": "stdout",
     "output_type": "stream",
     "text": [
      "c:\\Users\\josep\\AIMicroscopyGAeN\\Detect_NP\\detection_gui\n",
      "\n",
      "Batch 1/1\n",
      "1 image was decoded in approximately 0.3164 seconds\n",
      "Número de nanopartículas detectadas después de la fusión: 4\n",
      "Centros (fila, columna): [(214.0, 138.0), (423.0, 25.0), (471.0, 389.0), (487.0, 299.0)]\n",
      "\n",
      "Batch 1/1\n",
      "1 image was decoded in approximately 0.259 seconds\n",
      "Número de nanopartículas detectadas después de la fusión: 2\n",
      "Centros (fila, columna): [(142.0, 444.0), (411.5, 272.5)]\n",
      "\n",
      "Batch 1/1\n",
      "1 image was decoded in approximately 0.2591 seconds\n",
      "Número de nanopartículas detectadas después de la fusión: 5\n",
      "Centros (fila, columna): [(33.5, 228.5), (87.5, 320.5), (118.5, 268.5), (389.5, 38.5), (427.5, 20.5)]\n",
      "\n",
      "Batch 1/1\n",
      "1 image was decoded in approximately 0.2614 seconds\n",
      "Número de nanopartículas detectadas después de la fusión: 2\n",
      "Centros (fila, columna): [(254.5, 231.5), (291.5, 214.5)]\n",
      "\n",
      "Batch 1/1\n",
      "1 image was decoded in approximately 0.2502 seconds\n",
      "Número de nanopartículas detectadas después de la fusión: 4\n",
      "Centros (fila, columna): [(62.0, 171.0), (102.5, 440.5), (140.5, 423.5), (288.5, 16.5)]\n"
     ]
    },
    {
     "name": "stderr",
     "output_type": "stream",
     "text": [
      "c:\\Users\\josep\\AIMicroscopyGAeN\\Detect_NP\\detection_gui\\detection_gui_app.py:93: FutureWarning: You are using `torch.load` with `weights_only=False` (the current default value), which uses the default pickle module implicitly. It is possible to construct malicious pickle data which will execute arbitrary code during unpickling (See https://github.com/pytorch/pytorch/blob/main/SECURITY.md#untrusted-models for more details). In a future release, the default value for `weights_only` will be flipped to `True`. This limits the functions that could be executed during unpickling. Arbitrary objects will no longer be allowed to be loaded via this mode unless they are explicitly allowlisted by the user via `torch.serialization.add_safe_globals`. We recommend you start setting `weights_only=True` for any use case where you don't have full control of the loaded file. Please open an issue on GitHub for any issues related to this experimental feature.\n",
      "  self.model_ml = torch.load('ModelNP_newContrast_900.pt')\n",
      "Exception in Tkinter callback\n",
      "Traceback (most recent call last):\n",
      "  File \"c:\\Users\\josep\\anaconda3\\envs\\app\\lib\\tkinter\\__init__.py\", line 1885, in __call__\n",
      "    return self.func(*args)\n",
      "  File \"c:\\Users\\josep\\anaconda3\\envs\\app\\lib\\site-packages\\customtkinter\\windows\\widgets\\ctk_entry.py\", line 120, in _textvariable_callback\n",
      "    if self._textvariable.get() == \"\":\n",
      "  File \"c:\\Users\\josep\\anaconda3\\envs\\app\\lib\\tkinter\\__init__.py\", line 560, in get\n",
      "    return self._tk.getdouble(self._tk.globalgetvar(self._name))\n",
      "_tkinter.TclError: expected floating-point number but got \"\"\n"
     ]
    }
   ],
   "source": [
    "!python ../detection_gui/detection_gui_app.py"
   ]
  }
 ],
 "metadata": {
  "kernelspec": {
   "display_name": "app",
   "language": "python",
   "name": "python3"
  },
  "language_info": {
   "codemirror_mode": {
    "name": "ipython",
    "version": 3
   },
   "file_extension": ".py",
   "mimetype": "text/x-python",
   "name": "python",
   "nbconvert_exporter": "python",
   "pygments_lexer": "ipython3",
   "version": "3.9.0"
  }
 },
 "nbformat": 4,
 "nbformat_minor": 4
}
