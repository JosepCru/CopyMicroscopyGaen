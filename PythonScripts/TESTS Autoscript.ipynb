{
 "cells": [
  {
   "cell_type": "markdown",
   "metadata": {},
   "source": [
    "Primeramente vamos a inicializar los paquetes necesarios"
   ]
  },
  {
   "cell_type": "code",
   "execution_count": null,
   "metadata": {},
   "outputs": [],
   "source": [
    "from autoscript_tem_microscope_client import TemMicroscopeClient\n",
    "from autoscript_tem_microscope_client.enumerations import *\n",
    "from autoscript_tem_microscope_client.structures import *"
   ]
  },
  {
   "cell_type": "markdown",
   "metadata": {},
   "source": [
    "Conectarse al microscopio"
   ]
  },
  {
   "cell_type": "code",
   "execution_count": null,
   "metadata": {},
   "outputs": [],
   "source": [
    "microscope = TemMicroscopeClient()\n",
    "microscope.connect() # Debería conectarse automáticamente a la ip por defecto \"192.168.0.1\"\n",
    "# Se pueden concatenar intentos de conexión: microscope.connect([\"10.140.15.1\", \"localhost\", \"192.168.0.1\"])\n",
    "#                                            microscope.connect([\"10.140.15.1\", \"localhost\"], [7500, 4000])"
   ]
  },
  {
   "cell_type": "code",
   "execution_count": null,
   "metadata": {},
   "outputs": [],
   "source": [
    "# Change optical mode to STEM\n",
    "microscope.optics.optical_mode = OpticalMode.STEM"
   ]
  },
  {
   "cell_type": "markdown",
   "metadata": {},
   "source": [
    " List available detectors and cameras:"
   ]
  },
  {
   "cell_type": "code",
   "execution_count": null,
   "metadata": {},
   "outputs": [],
   "source": [
    "scanning_detectors = microscope.detectors.scanning_detectors\n",
    "print(\"Scanning detectors: \", scanning_detectors)\n",
    "camera_detectors = microscope.detectors.camera_detectors\n",
    "print(\"Camera detectors: \", camera_detectors)"
   ]
  },
  {
   "cell_type": "markdown",
   "metadata": {},
   "source": [
    "Take one image with HAADF detector:"
   ]
  },
  {
   "cell_type": "code",
   "execution_count": null,
   "metadata": {},
   "outputs": [],
   "source": [
    "image = microscope.acquisition.acquire_stem_image(DetectorType.HAADF, 1024, 50e-9)"
   ]
  },
  {
   "cell_type": "markdown",
   "metadata": {},
   "source": [
    "Plot the image:"
   ]
  },
  {
   "cell_type": "code",
   "execution_count": null,
   "metadata": {},
   "outputs": [],
   "source": [
    "from matplotlib import pyplot as plot\n",
    "plot.imshow(image.data, cmap=\"gray\")\n",
    "plot.show()"
   ]
  },
  {
   "cell_type": "markdown",
   "metadata": {},
   "source": [
    "Devolver posicion actual"
   ]
  },
  {
   "cell_type": "code",
   "execution_count": null,
   "metadata": {},
   "outputs": [],
   "source": [
    "InitialStagePosition = microscope.stage.position\n",
    "print(InitialStagePosition)"
   ]
  },
  {
   "cell_type": "markdown",
   "metadata": {},
   "source": [
    "Devolver fov"
   ]
  },
  {
   "cell_type": "code",
   "execution_count": null,
   "metadata": {},
   "outputs": [],
   "source": [
    "fov = microscope.optics.scan_field_of_view\n",
    "print(fov)"
   ]
  },
  {
   "cell_type": "markdown",
   "metadata": {},
   "source": [
    "Mover el microscopio"
   ]
  },
  {
   "cell_type": "code",
   "execution_count": null,
   "metadata": {},
   "outputs": [],
   "source": [
    "Overlap = 0.1\n",
    "shift = fov * (1 - Overlap)\n",
    "\n",
    "shiftX = 2 * shift\n",
    "shiftY = 1 * shift\n",
    "\n",
    "microscope.stage.relative_move_safe(StagePosition(x=1e-6))"
   ]
  },
  {
   "cell_type": "code",
   "execution_count": null,
   "metadata": {},
   "outputs": [],
   "source": [
    "microscope.stage.relative_move_safe(StagePosition(x=-1e-6))"
   ]
  },
  {
   "cell_type": "markdown",
   "metadata": {},
   "source": [
    "Obtener apertura"
   ]
  },
  {
   "cell_type": "code",
   "execution_count": null,
   "metadata": {},
   "outputs": [],
   "source": [
    "C2 = microscope.optics.aperture_mechanisms.C2\n",
    "aperture_start_position = C2.position\n",
    "print(aperture_start_position)"
   ]
  },
  {
   "cell_type": "markdown",
   "metadata": {},
   "source": [
    "Prueba cambio de focus"
   ]
  },
  {
   "cell_type": "code",
   "execution_count": null,
   "metadata": {},
   "outputs": [],
   "source": [
    "initial_focus = microscope.optics.focus\n",
    "print(initial_focus)"
   ]
  },
  {
   "cell_type": "code",
   "execution_count": null,
   "metadata": {},
   "outputs": [],
   "source": [
    "initial_defocus = microscope.optics.defocus\n",
    "print(initial_defocus)"
   ]
  },
  {
   "cell_type": "code",
   "execution_count": null,
   "metadata": {},
   "outputs": [],
   "source": [
    "focus_step = 1E-6\n",
    "steps = 10\n",
    "focus_start = -focus_step * steps / 2\n",
    "\n",
    "microscope.optics.reset_defocus()\n",
    "\n",
    "for i in range(steps):\n",
    "    defocus = i * focus_step + focus_start\n",
    "    microscope.optics.defocus = defocus\n"
   ]
  },
  {
   "cell_type": "markdown",
   "metadata": {},
   "source": [
    "Auto Functions"
   ]
  },
  {
   "cell_type": "code",
   "execution_count": null,
   "metadata": {},
   "outputs": [],
   "source": [
    "# Auto Focus with default parameters\n",
    "microscope.auto_functions.run_stem_auto_focus(RunStemAutoFocusSettings(DetectorType.HAADF))"
   ]
  },
  {
   "cell_type": "code",
   "execution_count": null,
   "metadata": {},
   "outputs": [],
   "source": [
    "settings = RunStemAutoFocusSettings(DetectorType.HAADF, 1024, 1e-5, true, reset_beam_blanker_afterwards=True)\n",
    "microscope.auto_functions.run_stem_auto_focus(settings)"
   ]
  },
  {
   "cell_type": "code",
   "execution_count": null,
   "metadata": {},
   "outputs": [],
   "source": [
    "# Opti Stem with default parameters\n",
    "microscope.auto_functions.run_opti_stem()"
   ]
  },
  {
   "cell_type": "code",
   "execution_count": null,
   "metadata": {},
   "outputs": [],
   "source": [
    "settings = RunOptiStemSettings(method=OptiStemMethod.C1, dwell_time=2e-06, cutoff_in_pixels=5)\n",
    "microscope.auto_functions.run_opti_stem(settings)"
   ]
  },
  {
   "cell_type": "code",
   "execution_count": null,
   "metadata": {},
   "outputs": [],
   "source": [
    "# Desconectar el microscopio\n",
    "microscope.disconnect()"
   ]
  }
 ],
 "metadata": {
  "language_info": {
   "name": "python"
  }
 },
 "nbformat": 4,
 "nbformat_minor": 2
}
