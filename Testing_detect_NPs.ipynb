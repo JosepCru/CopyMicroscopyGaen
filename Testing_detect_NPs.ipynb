{
 "cells": [
  {
   "cell_type": "markdown",
   "id": "7b786f44",
   "metadata": {},
   "source": [
    "# Import"
   ]
  },
  {
   "cell_type": "code",
   "execution_count": null,
   "id": "17ed2523-a721-4b33-97bf-da608bcaf070",
   "metadata": {},
   "outputs": [],
   "source": [
    "import cv2\n",
    "import numpy as np\n",
    "import matplotlib.pyplot as plt\n",
    "import torch\n",
    "import torch.utils.data\n",
    "import os\n",
    "from PIL import Image\n",
    "from scipy.ndimage import label"
   ]
  },
  {
   "cell_type": "code",
   "execution_count": null,
   "id": "7a4ac5cf",
   "metadata": {},
   "outputs": [],
   "source": [
    "from autoscript_tem_microscope_client import TemMicroscopeClient\n",
    "from autoscript_tem_microscope_client.enumerations import *\n",
    "from autoscript_tem_microscope_client.structures import *"
   ]
  },
  {
   "cell_type": "markdown",
   "id": "274f6a91-7222-4f56-b825-6d89799c1220",
   "metadata": {},
   "source": [
    "# Acquire image"
   ]
  },
  {
   "cell_type": "code",
   "execution_count": null,
   "id": "fe516c50-9e70-42df-8c32-24390b0d9c6d",
   "metadata": {
    "tags": []
   },
   "outputs": [
    {
     "data": {
      "text/plain": [
       "' Code for plot image'"
      ]
     },
     "execution_count": 1,
     "metadata": {},
     "output_type": "execute_result"
    }
   ],
   "source": [
    "microscope = TemMicroscopeClient()\n",
    "microscope.connect()\n",
    "image = microscope.acquisition.acquire_stem_image(DetectorType.HAADF, ImageSize.PRESET_512, 1e-6) # Acquire the image\n",
    "\n",
    "# What happens if we don't put disconnect (?)\n",
    "microscope.disconnect()\n",
    "''' Code for plot image'''\n",
    "plt.figure(figsize=(8, 6))\n",
    "plt.imshow(image, cmap='gray')\n",
    "plt.title(\"Image\")\n",
    "plt.axis('off')\n",
    "plt.show()"
   ]
  },
  {
   "cell_type": "markdown",
   "id": "bf7bf522-6e53-4ee0-90ad-0b390c3718ec",
   "metadata": {},
   "source": [
    "# Nps detection"
   ]
  },
  {
   "cell_type": "code",
   "execution_count": null,
   "id": "4dd68db9",
   "metadata": {},
   "outputs": [],
   "source": [
    "files = [file for file in os.listdir() if file.endswith('pt')]\n",
    "print(files)\n",
    "model_list = []\n",
    "for file in files:\n",
    "    model_list.append(torch.load(file))"
   ]
  },
  {
   "cell_type": "code",
   "execution_count": null,
   "id": "f2d2c5eb-8450-49e1-b69c-69c21b20c100",
   "metadata": {
    "tags": []
   },
   "outputs": [],
   "source": [
    "model_path = '''model path/name'''\n",
    "model = torch.load(model_path)"
   ]
  },
  {
   "cell_type": "code",
   "execution_count": null,
   "id": "6a35042d",
   "metadata": {},
   "outputs": [],
   "source": [
    "def isolate_particles(pred_mask, threshold=0.5):\n",
    "    binary_mask = (pred_mask > threshold).astype(np.uint8)  # Convierte la máscara de probabilidades en una máscara binaria\n",
    "    labeled_mask, num_particles = label(binary_mask) # Function from scipy.ndimage, busca grupos de píxeles conectados entre sí\n",
    "    return labeled_mask, num_particles"
   ]
  },
  {
   "cell_type": "code",
   "execution_count": null,
   "id": "52e5f968",
   "metadata": {},
   "outputs": [],
   "source": [
    "def get_square_bbox(indices, image_shape, ratio = 1, min_size = 0.2):\n",
    "    rows, cols = indices\n",
    "    if len(rows) == 0 or len(cols) == 0: \n",
    "        return None # Clean the list if there is no particle\n",
    "    min_row, max_row = np.min(rows), np.max(rows) # Lookf or the limits\n",
    "    min_col, max_col = np.min(cols), np.max(cols)\n",
    "    width = max_col - min_col\n",
    "    height = max_row - min_row\n",
    "    side = int(max(width, height) * ratio)\n",
    "    if side <= min_size:\n",
    "        return None\n",
    "\n",
    "    # center of the particle\n",
    "    row_center = (min_row + max_row) // 2\n",
    "    col_center = (min_col + max_col) // 2\n",
    "    half_side = side // 2\n",
    "\n",
    "    # Calculate the top left square to put the square\n",
    "    start_row = max(row_center - half_side, 0) \n",
    "    start_col = max(col_center - half_side, 0)\n",
    "\n",
    "    # This assures that the box doesn't go out of the image, from Chat-GPT, check if there is a better option\n",
    "    if start_row + side > image_shape[0]:\n",
    "        start_row = image_shape[0] - side\n",
    "    if start_col + side > image_shape[1]:\n",
    "        start_col = image_shape[1] - side\n",
    "        \n",
    "    return (start_row, start_col, side)"
   ]
  },
  {
   "cell_type": "code",
   "execution_count": null,
   "id": "3f9acc87-61c1-433e-8ebc-c826f836b46c",
   "metadata": {},
   "outputs": [],
   "source": [
    "def plot_particle(image, bbox, title=\"Partícula\"):\n",
    "    r, c, s = bbox\n",
    "    particle_img = image[r:r+s, c:c+s]\n",
    "    plt.figure()\n",
    "    plt.imshow(particle_img, cmap='gray')\n",
    "    plt.title(title)\n",
    "    plt.axis('off')\n",
    "    plt.show()"
   ]
  },
  {
   "cell_type": "code",
   "execution_count": null,
   "id": "d9cfb6a1-57fc-4693-8cdb-e0c141befa83",
   "metadata": {
    "tags": []
   },
   "outputs": [
    {
     "data": {
      "text/plain": [
       "' \\nCode for detect and plot:\\n    Global image\\n    Prediction\\n    Global image with squares\\n    Crop NP 1\\n    Crop NP 2\\n    ...\\n'"
      ]
     },
     "execution_count": 4,
     "metadata": {},
     "output_type": "execute_result"
    }
   ],
   "source": [
    "''' \n",
    "Code for detect and plot:\n",
    "    Global image\n",
    "    Prediction\n",
    "    Global image with squares\n",
    "    Crop NP 1\n",
    "    Crop NP 2\n",
    "    ...\n",
    "'''\n",
    "def detect_and_plot(microscope, th = 0.5):\n",
    "\n",
    "    image = microscope.acquisition.acquire_stem_image(DetectorType.HAADF, ImageSize.PRESET_512, 1e-6) # Acquire the image\n",
    "    pred = model.predict(image)\n",
    "        \n",
    "    pred_mask = np.squeeze(pred[0]) # From ChatGPT, maybe there is a better option (?)\n",
    "    labeled_mask, num_particles = isolate_particles(pred_mask, threshold=th) # From ChatGPT, maybe there is a better option (?)\n",
    "    image_color = cv2.cvtColor(image, cv2.COLOR_GRAY2BGR) # From ChatGPT, maybe there is a better option (?)\n",
    "        \n",
    "    bboxes = []\n",
    "    for x in range(1, num_particles + 1):\n",
    "        particle_indices = np.where(labeled_mask == x)\n",
    "        bbox = get_square_bbox(particle_indices, image.shape, 2, 0.2)\n",
    "        if bbox is not None:\n",
    "            bboxes.append(bbox)\n",
    "            start_row, start_col, side = bbox\n",
    "            cv2.rectangle(image_color, (start_col, start_row), (start_col + side, start_row + side), (0, 0, 255), 2)\n",
    "            plot_particle(image, bbox, title=f\"Partícula {x}\")\n",
    "            \n",
    "    fig, axes = plt.subplots(1, 3, figsize=(10, 5))\n",
    "        \n",
    "    print(f\"Num de partículas detectadas: {num_particles}\")\n",
    "        \n",
    "    axes[0].imshow(image, cmap='gray')\n",
    "    axes[0].set_title(\"Imagen original\")\n",
    "    axes[0].axis('off') \n",
    "        \n",
    "    axes[1].imshow(labeled_mask, cmap='gray')\n",
    "    axes[1].set_title(\"Predicción del modelo\")\n",
    "    axes[1].axis('off')\n",
    "        \n",
    "    axes[2].imshow(image_color)\n",
    "    axes[2].set_title(\"Imagen con partículas en cuadrados\")\n",
    "    axes[2].axis('off')\n",
    "        \n",
    "    plt.tight_layout()\n",
    "    plt.show()"
   ]
  },
  {
   "cell_type": "code",
   "execution_count": null,
   "id": "41832b0c",
   "metadata": {},
   "outputs": [],
   "source": [
    "microscope = TemMicroscopeClient()\n",
    "microscope.connect()\n",
    "detect_and_plot(microscope)\n",
    "\n",
    "# What happens if we don't put disconnect (?)\n",
    "microscope.disconnect()"
   ]
  },
  {
   "cell_type": "markdown",
   "id": "bb90ba25-68c1-45b2-a9b6-d9fa01c0a209",
   "metadata": {
    "tags": []
   },
   "source": [
    "# NPs acquisition"
   ]
  },
  {
   "cell_type": "code",
   "execution_count": null,
   "id": "33c5aacd-6bb6-40f7-ab55-f74a846e339c",
   "metadata": {},
   "outputs": [],
   "source": [
    "'''\n",
    "Global code where:\n",
    "    Take the image\n",
    "    Detect the Nps\n",
    "    Move to each NP and zoom in for acquire NP image \n",
    "    Save the images\n",
    "'''\n",
    "def detect_and_save(microscope, index = 1, th = 0.5):\n",
    "    image = microscope.acquisition.acquire_stem_image(DetectorType.HAADF, ImageSize.PRESET_512, 1e-6) # Acquire the image\n",
    "\n",
    "    pred, zones = model.predict(image) # Prediction and centered zones using our model\n",
    "                \n",
    "    pred_mask = np.squeeze(pred[0])\n",
    "    labeled_mask, num_particles = isolate_particles(pred_mask, threshold=th)\n",
    "    image_color = cv2.cvtColor(image, cv2.COLOR_GRAY2BGR)\n",
    "\n",
    "    directory = f\"Images/{index:04d}_Image\"\n",
    "    os.makedirs(directory, exist_ok=True)\n",
    "\n",
    "    previousX, previousY = None, None\n",
    "\n",
    "    image.save(os.path.join(directory, f\"image_{index:04d}.png\"))\n",
    "    labeled_mask.save(os.path.join(directory, f\"prediction_{index:04d}.png\"))\n",
    "\n",
    "    if(num_particles>0):    \n",
    "        bboxes = []\n",
    "        for x in range(1, num_particles + 1):\n",
    "            particle_indices = np.where(labeled_mask == x)\n",
    "            bbox = get_square_bbox(particle_indices, image.shape, 2, 0.2)\n",
    "            if bbox is not None:\n",
    "                bboxes.append(bbox)\n",
    "                start_row, start_col, side = bbox\n",
    "                cv2.rectangle(image_color, (start_col, start_row), (start_col + side, start_row + side), (0, 0, 255), 2)\n",
    "\n",
    "        image_color.save(os.path.join(directory, f\"detection_{index:04d}.png\"))       \n",
    "        \n",
    "        initial_position = microscope.specimen.stage.position\n",
    "\n",
    "        for i, zone in enumerate(zones):\n",
    "            if previousX is not None and previousY is not None:\n",
    "                # Maybe we should use specimen.stage.move_to_pixel, ask to Ivan\n",
    "                microscope.specimen.stage.relative_move(StagePosition(x=zone.x - previousX, y=zone.y - previousY))\n",
    "            else:\n",
    "                fov = microscope.optics.scan_field_of_view\n",
    "                extra = fov / 2\n",
    "                microscope.specimen.stage.relative_move(StagePosition(x=zone.x - extra, y=zone.y - extra))\n",
    "\n",
    "            previousX, previousY = zone.x, zone.y\n",
    "            centered_image = microscope.acquisition.acquire_stem_image(DetectorType.HAADF, ImageSize.PRESET_512, 1e-6)\n",
    "            centered_image.save(os.path.join(directory, f\"particle_{i:04d}.png\"))\n",
    "    \n",
    "    microscope.specimen.stage.absolute_move_safe(initial_position)\n",
    "    # image = cv2.imread(path, cv2.IMREAD_GRAYSCALE) # This returns a image in grayscale\n",
    "    # Maybe we should show a message if the image is not found, ask to Ivan\n",
    "    return"
   ]
  },
  {
   "cell_type": "code",
   "execution_count": null,
   "id": "f13cf631",
   "metadata": {},
   "outputs": [],
   "source": [
    "\n",
    "microscope = TemMicroscopeClient()\n",
    "microscope.connect()\n",
    "microscope.optics.optical_mode = OpticalMode.STEM\n",
    "    \n",
    "detect_and_save(microscope)\n",
    "    \n",
    "microscope.disconnect()"
   ]
  },
  {
   "cell_type": "markdown",
   "id": "9520b8f7",
   "metadata": {},
   "source": [
    "# NPs Acquisition with Movement"
   ]
  },
  {
   "cell_type": "code",
   "execution_count": null,
   "id": "e68f3bd2",
   "metadata": {},
   "outputs": [],
   "source": [
    "def build_spiral_coordinates(total_cells = 12):\n",
    "    coord_initial = []\n",
    "    directions = [(0, 1), (-1, 0), (0, -1), (1, 0)]\n",
    "    direction_index = 0\n",
    "    step_count = 0\n",
    "    step_limit = 1\n",
    "    direction_changes = 0\n",
    "\n",
    "    while len(coord_initial) < total_cells:\n",
    "\n",
    "        coord_initial.append(directions[direction_index])\n",
    "        step_count += 1\n",
    "\n",
    "        if step_count == step_limit:\n",
    "            step_count = 0\n",
    "            direction_index = (direction_index + 1) % 4\n",
    "            direction_changes += 1\n",
    "            \n",
    "            if direction_changes % 2 == 0:\n",
    "                step_limit += 1\n",
    "\n",
    "    return coord_initial"
   ]
  },
  {
   "cell_type": "code",
   "execution_count": null,
   "id": "60664c2a",
   "metadata": {},
   "outputs": [],
   "source": [
    "def movement(grid_x, grid_y, step_size, microscope):\n",
    "    for i in range (0,2):\n",
    "            microscope.specimen.stage.relative_move(StagePosition(x=grid_x * step_size, y=grid_y * step_size))\n",
    "            detect_and_plot(microscope)"
   ]
  },
  {
   "cell_type": "code",
   "execution_count": null,
   "id": "891516f0",
   "metadata": {},
   "outputs": [],
   "source": [
    "def main():\n",
    "    microscope = TemMicroscopeClient()\n",
    "    microscope.connect()\n",
    "    microscope.optics.optical_mode = OpticalMode.STEM\n",
    "\n",
    "    num_images = 1000\n",
    "    step_size = 0.0001\n",
    "\n",
    "    total_steps = num_images/2\n",
    "    movement_direction = build_spiral_coordinates(total_cells=total_steps)\n",
    "\n",
    "    for (x, y) in movement_direction:\n",
    "        movement(x, y, step_size, microscope)\n",
    "    \n",
    "    microscope.disconnect()"
   ]
  }
 ],
 "metadata": {
  "kernelspec": {
   "display_name": "Python 3 (ipykernel)",
   "language": "python",
   "name": "python3"
  },
  "language_info": {
   "codemirror_mode": {
    "name": "ipython",
    "version": 3
   },
   "file_extension": ".py",
   "mimetype": "text/x-python",
   "name": "python",
   "nbconvert_exporter": "python",
   "pygments_lexer": "ipython3",
   "version": "3.9.0"
  },
  "toc-autonumbering": true
 },
 "nbformat": 4,
 "nbformat_minor": 5
}
